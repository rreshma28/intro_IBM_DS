{
 "cells": [
  {
   "cell_type": "markdown",
   "id": "e3343247",
   "metadata": {},
   "source": [
    "## Data Science Tools and Ecosystem"
   ]
  },
  {
   "cell_type": "code",
   "execution_count": null,
   "id": "b3cee06b",
   "metadata": {},
   "outputs": [],
   "source": [
    "# Exercise 3"
   ]
  },
  {
   "cell_type": "markdown",
   "id": "e922e618",
   "metadata": {},
   "source": [
    "In this note book, Data Science Tools and Ecosystem are summarized"
   ]
  },
  {
   "cell_type": "markdown",
   "id": "d45121f0",
   "metadata": {},
   "source": [
    "**Objectives:Some of the key takeaway of the courses**\n",
    "\n",
    "- Understand the basics of Jupyter Notebook.\n",
    "- Learn to create and manipulate cells in Jupyter Notebook.\n",
    "- List popular languages for Data Science.\n",
    "- Understand the use of libraries in Data Science.\n",
    "- Learn to create tables\n"
   ]
  },
  {
   "cell_type": "code",
   "execution_count": 1,
   "id": "e06b23fb",
   "metadata": {},
   "outputs": [],
   "source": [
    "# Exercise 4 "
   ]
  },
  {
   "cell_type": "markdown",
   "id": "eb8ab36f",
   "metadata": {},
   "source": [
    "Some of the popular languages that Data Scientists use are:\n",
    "\n",
    "1.Python\n",
    "\n",
    "2.R\n",
    "\n",
    "3.SQL\n",
    "\n",
    "4.scala\n",
    "\n",
    "5.Julia"
   ]
  },
  {
   "cell_type": "code",
   "execution_count": 2,
   "id": "baf94a1d",
   "metadata": {},
   "outputs": [],
   "source": [
    "# Exercise 5"
   ]
  },
  {
   "cell_type": "markdown",
   "id": "86f15aee",
   "metadata": {},
   "source": [
    "Some of commonly used libraries used by the Data Scientists include:\n",
    "\n",
    "1.Numpy\n",
    "\n",
    "2.Pandas\n",
    "\n",
    "3.Matplotlib\n",
    "\n",
    "4.Scikit-learn\n",
    "\n",
    "5.Tenserflow\n",
    "\n",
    "6.Keras\n",
    "\n",
    "7.PyTorch\n",
    "\n",
    "8.Seaborn\n",
    "\n",
    "9.Bokeh\n",
    "\n",
    "10.plotly"
   ]
  },
  {
   "cell_type": "code",
   "execution_count": 3,
   "id": "7f4c537f",
   "metadata": {},
   "outputs": [],
   "source": [
    "# Exercise 6"
   ]
  },
  {
   "cell_type": "markdown",
   "id": "2371fdc4",
   "metadata": {},
   "source": [
    "| Data Science Tools |\n",
    "| --- |\n",
    "| Jupyter Notebook |\n",
    "| RStudio |\n",
    "| PyCharm |\n"
   ]
  },
  {
   "cell_type": "code",
   "execution_count": 4,
   "id": "800d1180",
   "metadata": {},
   "outputs": [],
   "source": [
    "# Exercise 7"
   ]
  },
  {
   "cell_type": "markdown",
   "id": "be7bd2d3",
   "metadata": {},
   "source": [
    "### Below are a few examples of evaluating arithmetic expressions in python"
   ]
  },
  {
   "cell_type": "code",
   "execution_count": 5,
   "id": "7ec1cc9c",
   "metadata": {},
   "outputs": [],
   "source": [
    "# Exercise 8"
   ]
  },
  {
   "cell_type": "code",
   "execution_count": 6,
   "id": "3b9c7665",
   "metadata": {},
   "outputs": [
    {
     "data": {
      "text/plain": [
       "17"
      ]
     },
     "execution_count": 6,
     "metadata": {},
     "output_type": "execute_result"
    }
   ],
   "source": [
    "# This is a simple arithmetic expression to multiply then add integers\n",
    "(3*4)+5"
   ]
  },
  {
   "cell_type": "code",
   "execution_count": 7,
   "id": "c2386ce3",
   "metadata": {},
   "outputs": [],
   "source": [
    "# Exercise 9"
   ]
  },
  {
   "cell_type": "code",
   "execution_count": 10,
   "id": "844b3196",
   "metadata": {},
   "outputs": [
    {
     "name": "stdout",
     "output_type": "stream",
     "text": [
      "200 minutes is equal to 3.3333333333333335 hours\n"
     ]
    }
   ],
   "source": [
    "# This will convert 200 minutes to hours by dividing by 60\n",
    "minute = 200\n",
    "converter = minute/60\n",
    "print(f\"200 minutes is equal to {converter} hours\")"
   ]
  },
  {
   "cell_type": "code",
   "execution_count": null,
   "id": "62d69209",
   "metadata": {},
   "outputs": [],
   "source": [
    "# Exercise 11"
   ]
  },
  {
   "cell_type": "markdown",
   "id": "09224d26",
   "metadata": {},
   "source": [
    "## Author\n",
    "\n",
    "R Reshma"
   ]
  },
  {
   "cell_type": "code",
   "execution_count": null,
   "id": "0ff81b01",
   "metadata": {},
   "outputs": [],
   "source": []
  }
 ],
 "metadata": {
  "kernelspec": {
   "display_name": "Python 3 (ipykernel)",
   "language": "python",
   "name": "python3"
  },
  "language_info": {
   "codemirror_mode": {
    "name": "ipython",
    "version": 3
   },
   "file_extension": ".py",
   "mimetype": "text/x-python",
   "name": "python",
   "nbconvert_exporter": "python",
   "pygments_lexer": "ipython3",
   "version": "3.11.5"
  }
 },
 "nbformat": 4,
 "nbformat_minor": 5
}
